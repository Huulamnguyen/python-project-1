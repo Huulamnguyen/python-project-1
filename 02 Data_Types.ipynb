{
 "cells": [
  {
   "cell_type": "markdown",
   "metadata": {},
   "source": [
    "# Data Structures"
   ]
  },
  {
   "cell_type": "markdown",
   "metadata": {},
   "source": [
    "## Lists:"
   ]
  },
  {
   "cell_type": "markdown",
   "metadata": {},
   "source": [
    "Reference: https://thomas-cokelaer.info/tutorials/python/lists.html\n",
    "\n",
    "Lists are the most common type of data structure in python\n",
    "\n",
    "Lists storage different types of data"
   ]
  },
  {
   "cell_type": "code",
   "execution_count": 68,
   "metadata": {},
   "outputs": [
    {
     "name": "stdout",
     "output_type": "stream",
     "text": [
      "a: [1, 2, 3, 4] \n",
      "\n",
      "Third element in list is: 3 \n",
      "\n",
      "Object type: <class 'list'> \n",
      "\n",
      "The lenght of the list is: 4\n"
     ]
    }
   ],
   "source": [
    "a = [1, 2 ,3 ,4]\n",
    "\n",
    "print('a:',a,'\\n')\n",
    "\n",
    "print('Third element in list is:',a[2], '\\n') #Print element at location 2. Notice that first location is 0\n",
    "\n",
    "print('Object type:',type(a),'\\n') \n",
    "\n",
    "print('The lenght of the list is:',len(a)) #"
   ]
  },
  {
   "cell_type": "code",
   "execution_count": 32,
   "metadata": {},
   "outputs": [
    {
     "name": "stdout",
     "output_type": "stream",
     "text": [
      "[1, 2, 3, 4]\n",
      "b: ['dog', 25, [1, 2, 3, 4], False, 'a'] \n",
      "\n",
      "c: [[1, 2, 3, 4], ['dog', 25, [1, 2, 3, 4], False, 'a']] \n",
      "\n"
     ]
    }
   ],
   "source": [
    "a = [1, 2 ,3 ,4]\n",
    "b = ['dog', 25, a, False, 'a'] # A list can store other lists\n",
    "\n",
    "print('b:', b, '\\n') #Print all the list\n",
    "print(b[2]) #Print second element of the list\n",
    "\n",
    "c = [a, b]\n",
    "print('c:', c, '\\n')"
   ]
  },
  {
   "cell_type": "code",
   "execution_count": 14,
   "metadata": {},
   "outputs": [
    {
     "name": "stdout",
     "output_type": "stream",
     "text": [
      "[1, 2, 3, 4, 8, 6, 4, 2] \n",
      "\n",
      "[1, 2, 3, 4]\n",
      "[1, 2, 3, 4, 4, 7] \n",
      "\n",
      "[1, 2, 3, 4, 4, 7, 1, 2, 3, 4, 4, 7]\n"
     ]
    }
   ],
   "source": [
    "a = [1, 2 ,3 ,4]\n",
    "b = [8, 6, 4, 2]\n",
    "a + b  # Sumation appends the second lists to the first one\n",
    "print(a + b, '\\n')\n",
    "\n",
    "print(a)\n",
    "a += [4, 7] #Append new values to the end of the list\n",
    "print(a, '\\n')\n",
    "\n",
    "a = a*2 #Add the list to the list\n",
    "print(a)"
   ]
  },
  {
   "cell_type": "code",
   "execution_count": 15,
   "metadata": {},
   "outputs": [
    {
     "name": "stdout",
     "output_type": "stream",
     "text": [
      "[1, 2, 3, 4, 'dog']\n"
     ]
    },
    {
     "ename": "IndexError",
     "evalue": "list assignment index out of range",
     "output_type": "error",
     "traceback": [
      "\u001b[1;31m---------------------------------------------------------------------------\u001b[0m",
      "\u001b[1;31mIndexError\u001b[0m                                Traceback (most recent call last)",
      "\u001b[1;32m<ipython-input-15-edfe3ec8bfbd>\u001b[0m in \u001b[0;36m<module>\u001b[1;34m\u001b[0m\n\u001b[0;32m      2\u001b[0m \u001b[0ma\u001b[0m\u001b[1;33m.\u001b[0m\u001b[0mappend\u001b[0m\u001b[1;33m(\u001b[0m\u001b[1;34m'dog'\u001b[0m\u001b[1;33m)\u001b[0m \u001b[1;31m#Append is call a method\u001b[0m\u001b[1;33m\u001b[0m\u001b[1;33m\u001b[0m\u001b[0m\n\u001b[0;32m      3\u001b[0m \u001b[0mprint\u001b[0m\u001b[1;33m(\u001b[0m\u001b[0ma\u001b[0m\u001b[1;33m)\u001b[0m\u001b[1;33m\u001b[0m\u001b[1;33m\u001b[0m\u001b[0m\n\u001b[1;32m----> 4\u001b[1;33m \u001b[0ma\u001b[0m\u001b[1;33m[\u001b[0m\u001b[1;36m6\u001b[0m\u001b[1;33m]\u001b[0m \u001b[1;33m=\u001b[0m \u001b[1;36m3\u001b[0m \u001b[1;31m#Does not work since position 6 does not exist.\u001b[0m\u001b[1;33m\u001b[0m\u001b[1;33m\u001b[0m\u001b[0m\n\u001b[0m\u001b[0;32m      5\u001b[0m \u001b[0mprint\u001b[0m\u001b[1;33m(\u001b[0m\u001b[0ma\u001b[0m\u001b[1;33m)\u001b[0m\u001b[1;33m\u001b[0m\u001b[1;33m\u001b[0m\u001b[0m\n",
      "\u001b[1;31mIndexError\u001b[0m: list assignment index out of range"
     ]
    }
   ],
   "source": [
    "a = [1, 2 ,3 ,4]\n",
    "\n",
    "a.append('dog') #Append is call a method\n",
    "print(a)\n",
    "\n",
    "a[6] = 3 #Does not work since position 6 does not exist.\n",
    "print(a)"
   ]
  },
  {
   "cell_type": "code",
   "execution_count": 16,
   "metadata": {},
   "outputs": [
    {
     "name": "stdout",
     "output_type": "stream",
     "text": [
      "[1, 2, 3, 4, 'dog', 3]\n"
     ]
    }
   ],
   "source": [
    "#Warning: Careful when repeating append function\n",
    "a.append(3)\n",
    "print(a) #run the line many times:"
   ]
  },
  {
   "cell_type": "code",
   "execution_count": 17,
   "metadata": {},
   "outputs": [
    {
     "name": "stdout",
     "output_type": "stream",
     "text": [
      "[1, 2, 3, [4, 5, 6]]\n",
      "[4, 5, 6] \n",
      "\n",
      "[1, 2, 3, 4, 5, 6]\n",
      "4 \n",
      "\n"
     ]
    }
   ],
   "source": [
    "#Append vs Extend\n",
    "\n",
    "a = [1, 2, 3]\n",
    "b = [4, 5, 6]\n",
    "\n",
    "a.append(b) #Append object b to a single location\n",
    "print(a) \n",
    "print(a[3], '\\n')\n",
    "\n",
    "a = [1, 2, 3]\n",
    "b = [4, 5, 6]\n",
    "\n",
    "a.extend(b) #Concatenate the list Same as \"+\"\n",
    "print(a)\n",
    "print(a[3], '\\n')"
   ]
  },
  {
   "cell_type": "code",
   "execution_count": 18,
   "metadata": {},
   "outputs": [
    {
     "name": "stdout",
     "output_type": "stream",
     "text": [
      "[5, 6, 7, 8]\n"
     ]
    }
   ],
   "source": [
    "#Insert\n",
    "a = [5, 7 ,8 ]\n",
    "a.insert(1, 6) #Insert 6 at position 1\n",
    "print(a)\n"
   ]
  },
  {
   "cell_type": "code",
   "execution_count": 24,
   "metadata": {},
   "outputs": [
    {
     "name": "stdout",
     "output_type": "stream",
     "text": [
      "[1, 2, 'b', 3, 'a'] \n",
      "\n",
      "[1, 2, 'b', 3] \n",
      "\n",
      "[2, 'b', 3] \n",
      "\n",
      "[3, 'b', 2]\n"
     ]
    }
   ],
   "source": [
    "#Remove\n",
    "a = [1, 'a', 2, 'b', 3, 'a']\n",
    "a.remove('a') #Remove the first occurrence of the element\n",
    "print(a, '\\n')\n",
    "\n",
    "a.pop() #Remove the last element in the list\n",
    "print(a, '\\n') \n",
    "\n",
    "a.pop(0) #Remove the first element in the list\n",
    "print(a, '\\n') \n",
    "\n",
    "a.reverse()\n",
    "print(a)"
   ]
  },
  {
   "cell_type": "code",
   "execution_count": 20,
   "metadata": {},
   "outputs": [
    {
     "name": "stdout",
     "output_type": "stream",
     "text": [
      "2 \n",
      "\n",
      "['a', 'c', 'c', 'd', 'w']\n",
      "['w', 'd', 'c', 'c', 'a'] \n",
      "\n",
      "[1, 4, 5, 6, 8]\n",
      "[1, 4, 5, 6, 8]\n"
     ]
    }
   ],
   "source": [
    "#Count and Sort\n",
    "\n",
    "a = ['c', 'd', 'w', 'a', 'c']\n",
    "\n",
    "b = a.count('c') #Count the number of elements in the list\n",
    "print(b, '\\n')\n",
    "\n",
    "a.sort() #Sort numbers in ascendant order \n",
    "print(a)\n",
    "\n",
    "a.sort(reverse=True)\n",
    "print(a, '\\n')\n",
    "\n",
    "a = [5, 8, 4, 1, 6]\n",
    "a.sort()\n",
    "print(a)\n",
    "\n",
    "a.sort()\n",
    "print(a)"
   ]
  },
  {
   "cell_type": "code",
   "execution_count": 23,
   "metadata": {},
   "outputs": [
    {
     "name": "stdout",
     "output_type": "stream",
     "text": [
      "['d', 'w']\n",
      "['c', 'w', 'c']\n"
     ]
    }
   ],
   "source": [
    "#Slicing\n",
    "\n",
    "a = ['c', 'd', 'w', 'a', 'c']\n",
    "\n",
    "print(a[1:3]) #Print elements between locations 1 and 3. Location 3 is not included!!\n",
    "\n",
    "print(a[::2]) #Slicing with step 2"
   ]
  },
  {
   "cell_type": "code",
   "execution_count": 31,
   "metadata": {},
   "outputs": [
    {
     "name": "stdout",
     "output_type": "stream",
     "text": [
      "b: [1, 2, 3, 4, 5]\n",
      "b: [1, 2, 3, 4, 5, 6] \n",
      "\n",
      "a: [1, 2, 3, 4, 5, 6]\n"
     ]
    }
   ],
   "source": [
    "#Referecing\n",
    "\n",
    "a = [1, 2, 3, 4, 5]\n",
    "b = a\n",
    "\n",
    "print('b:', b)\n",
    "\n",
    "b.append(6)\n",
    "print('b:', b, '\\n')\n",
    "\n",
    "print('a:',a)\n",
    "\n",
    "#Notice that any operation in b will change a\n",
    "\n"
   ]
  },
  {
   "cell_type": "code",
   "execution_count": 34,
   "metadata": {},
   "outputs": [
    {
     "name": "stdout",
     "output_type": "stream",
     "text": [
      "b: [1, 2, 3, 4, 5]\n",
      "b: [1, 2, 3, 4, 5, 6] \n",
      "\n",
      "a: [1, 2, 3, 4, 5]\n"
     ]
    }
   ],
   "source": [
    "#Shallow Copy. Works with one dimensional lists\n",
    "\n",
    "a = [1, 2, 3, 4, 5]\n",
    "b = a[:]\n",
    "\n",
    "print('b:', b)\n",
    "\n",
    "b.append(6)\n",
    "print('b:', b, '\\n')\n",
    "\n",
    "print('a:',a)\n"
   ]
  },
  {
   "cell_type": "code",
   "execution_count": 44,
   "metadata": {},
   "outputs": [
    {
     "name": "stdout",
     "output_type": "stream",
     "text": [
      "[1, 2, 3, ['a', 'b']] \n",
      "\n",
      "c: [1, 2, 3, ['a', 'b']] \n",
      "\n",
      "c: [1, 8, 3, ['a', 'b']]\n",
      "a: [1, 2, 3, ['a', 'b']] \n",
      "\n",
      "c: [1, 8, 3, ['dog', 'b']]\n",
      "a: [1, 2, 3, ['dog', 'b']]\n"
     ]
    }
   ],
   "source": [
    "#Shallow copy\n",
    "\n",
    "a = [1, 2, 3]\n",
    "b = ['a', 'b']\n",
    "\n",
    "a.append(b)\n",
    "print(a,'\\n')\n",
    "\n",
    "c = a[:]\n",
    "\n",
    "print('c:',c,'\\n')\n",
    "\n",
    "c[1] = 8 #Changing value in index 1\n",
    "print('c:',c)\n",
    "print('a:',a,'\\n') #Works well\n",
    "\n",
    "c[3][0] = 'dog'\n",
    "print('c:',c)\n",
    "print('a:',a)"
   ]
  },
  {
   "cell_type": "markdown",
   "metadata": {},
   "source": [
    "## Tuples:"
   ]
  },
  {
   "cell_type": "markdown",
   "metadata": {},
   "source": [
    "Reference: https://thomas-cokelaer.info/tutorials/python/tuples.html\n",
    "\n",
    "Tuples are inmutable objects.\n",
    "\n",
    "Inmutable objects cannot be changed. Otherwise the behave like lists.\n",
    "\n",
    "Advantages: Fastes than lists and protect data"
   ]
  },
  {
   "cell_type": "code",
   "execution_count": null,
   "metadata": {},
   "outputs": [],
   "source": [
    "a = (1, 2 ,3 ,4)"
   ]
  },
  {
   "cell_type": "code",
   "execution_count": 50,
   "metadata": {},
   "outputs": [
    {
     "name": "stdout",
     "output_type": "stream",
     "text": [
      "a (1, 2, 3, 4) \n",
      "\n",
      "Third element in list is: 3\n"
     ]
    },
    {
     "data": {
      "text/plain": [
       "tuple"
      ]
     },
     "execution_count": 50,
     "metadata": {},
     "output_type": "execute_result"
    }
   ],
   "source": [
    "a = (1, 2 ,3 ,4)\n",
    "\n",
    "print('a',a,'\\n')\n",
    "\n",
    "print('Third element in list is:',a[2]) #Print element at location 2. Notice that first location is 0\n",
    "\n",
    "type(a)"
   ]
  },
  {
   "cell_type": "code",
   "execution_count": 52,
   "metadata": {},
   "outputs": [
    {
     "name": "stdout",
     "output_type": "stream",
     "text": [
      "a: (1, 2, 3, 4) \n",
      "\n",
      "Third element in list is: 3\n"
     ]
    },
    {
     "data": {
      "text/plain": [
       "tuple"
      ]
     },
     "execution_count": 52,
     "metadata": {},
     "output_type": "execute_result"
    }
   ],
   "source": [
    "a = 1, 2, 3, 4 #Tuples do not need parenthesis \n",
    "\n",
    "print('a:',a,'\\n')\n",
    "\n",
    "print('Third element in list is:',a[2]) #Print element at location 2. Notice that first location is 0\n",
    "\n",
    "type(a)"
   ]
  },
  {
   "cell_type": "code",
   "execution_count": 69,
   "metadata": {},
   "outputs": [
    {
     "name": "stdout",
     "output_type": "stream",
     "text": [
      "a: ('w', 'c', 'd', 'w', 'a', 'c', 'w') \n",
      "\n",
      "Third element in list is: d \n",
      "\n",
      "Object type: <class 'tuple'> \n",
      "\n",
      "The lenght of the list is: 7\n"
     ]
    }
   ],
   "source": [
    "a = ('w','c', 'd', 'w', 'a', 'c', 'w')\n",
    "\n",
    "print('a:',a,'\\n')\n",
    "\n",
    "print('Third element in tuple is:',a[2], '\\n') #Print element at location 2. Notice that first location is 0\n",
    "\n",
    "print('Object type:',type(a),'\\n') \n",
    "\n",
    "print('The lenght of tuple is:',len(a)) #"
   ]
  },
  {
   "cell_type": "code",
   "execution_count": 70,
   "metadata": {},
   "outputs": [
    {
     "ename": "TypeError",
     "evalue": "'tuple' object does not support item assignment",
     "output_type": "error",
     "traceback": [
      "\u001b[1;31m---------------------------------------------------------------------------\u001b[0m",
      "\u001b[1;31mTypeError\u001b[0m                                 Traceback (most recent call last)",
      "\u001b[1;32m<ipython-input-70-70509c705546>\u001b[0m in \u001b[0;36m<module>\u001b[1;34m\u001b[0m\n\u001b[0;32m      1\u001b[0m \u001b[0ma\u001b[0m \u001b[1;33m=\u001b[0m \u001b[1;33m(\u001b[0m\u001b[1;34m'w'\u001b[0m\u001b[1;33m,\u001b[0m\u001b[1;34m'c'\u001b[0m\u001b[1;33m,\u001b[0m \u001b[1;34m'd'\u001b[0m\u001b[1;33m,\u001b[0m \u001b[1;34m'w'\u001b[0m\u001b[1;33m,\u001b[0m \u001b[1;34m'a'\u001b[0m\u001b[1;33m,\u001b[0m \u001b[1;34m'c'\u001b[0m\u001b[1;33m,\u001b[0m \u001b[1;34m'w'\u001b[0m\u001b[1;33m)\u001b[0m\u001b[1;33m\u001b[0m\u001b[1;33m\u001b[0m\u001b[0m\n\u001b[0;32m      2\u001b[0m \u001b[1;33m\u001b[0m\u001b[0m\n\u001b[1;32m----> 3\u001b[1;33m \u001b[0ma\u001b[0m\u001b[1;33m[\u001b[0m\u001b[1;36m3\u001b[0m\u001b[1;33m]\u001b[0m \u001b[1;33m=\u001b[0m \u001b[1;34m'k'\u001b[0m\u001b[1;33m\u001b[0m\u001b[1;33m\u001b[0m\u001b[0m\n\u001b[0m",
      "\u001b[1;31mTypeError\u001b[0m: 'tuple' object does not support item assignment"
     ]
    }
   ],
   "source": [
    "a = ('w','c', 'd', 'w', 'a', 'c', 'w')\n",
    "\n",
    "a[3] = 'k' #Notice that tuple cannot be changed"
   ]
  },
  {
   "cell_type": "code",
   "execution_count": 74,
   "metadata": {},
   "outputs": [
    {
     "name": "stdout",
     "output_type": "stream",
     "text": [
      "x: 5\n",
      "y: 8\n",
      "z: True\n"
     ]
    }
   ],
   "source": [
    "#Unpacking\n",
    "a = (5, 8 , True)\n",
    "\n",
    "x,y,z = a\n",
    "\n",
    "print('x:', x)\n",
    "print('y:', y)\n",
    "print('z:', z)\n",
    "\n",
    "#Very efficient when programming"
   ]
  },
  {
   "cell_type": "code",
   "execution_count": 77,
   "metadata": {},
   "outputs": [
    {
     "name": "stdout",
     "output_type": "stream",
     "text": [
      "t: (8, 6, False)\n"
     ]
    }
   ],
   "source": [
    "x = 8\n",
    "y = 6\n",
    "z = False\n",
    "\n",
    "t = (x, y, z)\n",
    "\n",
    "print('t:', t)"
   ]
  },
  {
   "cell_type": "code",
   "execution_count": null,
   "metadata": {},
   "outputs": [],
   "source": [
    "a = (5, 8 , True)"
   ]
  },
  {
   "cell_type": "markdown",
   "metadata": {},
   "source": [
    "# Tuples and Lists"
   ]
  },
  {
   "cell_type": "code",
   "execution_count": 84,
   "metadata": {},
   "outputs": [
    {
     "name": "stdout",
     "output_type": "stream",
     "text": [
      "(1, 2, ['c', 'b'], 3)\n"
     ]
    },
    {
     "ename": "TypeError",
     "evalue": "'tuple' object does not support item assignment",
     "output_type": "error",
     "traceback": [
      "\u001b[1;31m---------------------------------------------------------------------------\u001b[0m",
      "\u001b[1;31mTypeError\u001b[0m                                 Traceback (most recent call last)",
      "\u001b[1;32m<ipython-input-84-eb8d2615b901>\u001b[0m in \u001b[0;36m<module>\u001b[1;34m\u001b[0m\n\u001b[0;32m      5\u001b[0m \u001b[0mprint\u001b[0m\u001b[1;33m(\u001b[0m\u001b[0ma\u001b[0m\u001b[1;33m)\u001b[0m \u001b[1;31m#\u001b[0m\u001b[1;33m\u001b[0m\u001b[1;33m\u001b[0m\u001b[0m\n\u001b[0;32m      6\u001b[0m \u001b[1;33m\u001b[0m\u001b[0m\n\u001b[1;32m----> 7\u001b[1;33m \u001b[0ma\u001b[0m\u001b[1;33m[\u001b[0m\u001b[1;36m2\u001b[0m\u001b[1;33m]\u001b[0m \u001b[1;33m=\u001b[0m \u001b[1;33m[\u001b[0m\u001b[1;36m3\u001b[0m\u001b[1;33m,\u001b[0m \u001b[1;36m2\u001b[0m\u001b[1;33m,\u001b[0m \u001b[1;36m1\u001b[0m\u001b[1;33m]\u001b[0m\u001b[1;33m\u001b[0m\u001b[1;33m\u001b[0m\u001b[0m\n\u001b[0m\u001b[0;32m      8\u001b[0m \u001b[1;33m\u001b[0m\u001b[0m\n",
      "\u001b[1;31mTypeError\u001b[0m: 'tuple' object does not support item assignment"
     ]
    }
   ],
   "source": [
    "a = (1, 2 ,['a', 'b'], 3) #Tuple with a list inside\n",
    "\n",
    "a[2][0] = 'c' #Notice that the list inside the tuple can be changed\n",
    "\n",
    "print(a) #\n",
    "\n",
    "a[2] = [3, 2, 1] #However the list cannot be replaced"
   ]
  },
  {
   "cell_type": "code",
   "execution_count": 89,
   "metadata": {},
   "outputs": [
    {
     "name": "stdout",
     "output_type": "stream",
     "text": [
      "[(1, 2), (8, 6)]\n"
     ]
    },
    {
     "ename": "TypeError",
     "evalue": "'tuple' object does not support item assignment",
     "output_type": "error",
     "traceback": [
      "\u001b[1;31m---------------------------------------------------------------------------\u001b[0m",
      "\u001b[1;31mTypeError\u001b[0m                                 Traceback (most recent call last)",
      "\u001b[1;32m<ipython-input-89-9336032e6e73>\u001b[0m in \u001b[0;36m<module>\u001b[1;34m\u001b[0m\n\u001b[0;32m      5\u001b[0m \u001b[0mprint\u001b[0m\u001b[1;33m(\u001b[0m\u001b[0ma\u001b[0m\u001b[1;33m)\u001b[0m\u001b[1;33m\u001b[0m\u001b[1;33m\u001b[0m\u001b[0m\n\u001b[0;32m      6\u001b[0m \u001b[1;33m\u001b[0m\u001b[0m\n\u001b[1;32m----> 7\u001b[1;33m \u001b[0ma\u001b[0m\u001b[1;33m[\u001b[0m\u001b[1;36m1\u001b[0m\u001b[1;33m]\u001b[0m\u001b[1;33m[\u001b[0m\u001b[1;36m0\u001b[0m\u001b[1;33m]\u001b[0m \u001b[1;33m=\u001b[0m \u001b[1;36m6\u001b[0m \u001b[1;31m#Tuple inside the list cannot be changed\u001b[0m\u001b[1;33m\u001b[0m\u001b[1;33m\u001b[0m\u001b[0m\n\u001b[0m",
      "\u001b[1;31mTypeError\u001b[0m: 'tuple' object does not support item assignment"
     ]
    }
   ],
   "source": [
    "a = [(1, 2), ('a','b','c')] # List of tuples\n",
    "\n",
    "a[1] = (8, 6) #Tuple can be repalced in the list\n",
    "\n",
    "print(a) \n",
    "\n",
    "a[1][0] = 6 #Tuple inside the list cannot be changed"
   ]
  },
  {
   "cell_type": "code",
   "execution_count": 91,
   "metadata": {},
   "outputs": [
    {
     "data": {
      "text/plain": [
       "3"
      ]
     },
     "execution_count": 91,
     "metadata": {},
     "output_type": "execute_result"
    }
   ],
   "source": [
    "a = (1, 2, 3)\n",
    "\n",
    "max(a)"
   ]
  }
 ],
 "metadata": {
  "kernelspec": {
   "display_name": "Python 3",
   "language": "python",
   "name": "python3"
  },
  "language_info": {
   "codemirror_mode": {
    "name": "ipython",
    "version": 3
   },
   "file_extension": ".py",
   "mimetype": "text/x-python",
   "name": "python",
   "nbconvert_exporter": "python",
   "pygments_lexer": "ipython3",
   "version": "3.7.3"
  }
 },
 "nbformat": 4,
 "nbformat_minor": 2
}

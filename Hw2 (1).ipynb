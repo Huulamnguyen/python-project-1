{
 "cells": [
  {
   "cell_type": "raw",
   "metadata": {},
   "source": [
    "A. Explain what is a method in python and provide a simple code with two examples."
   ]
  },
  {
   "cell_type": "markdown",
   "metadata": {},
   "source": [
    "A method is a function that \"belongs\" to an object. In Python, the term method is not unique to class instances: other object types can have methods as well. For example, list objects have methods called append, insert, remove, sort, extend, pop, so on"
   ]
  },
  {
   "cell_type": "code",
   "execution_count": 6,
   "metadata": {
    "scrolled": true
   },
   "outputs": [
    {
     "name": "stdout",
     "output_type": "stream",
     "text": [
      "[1, 2, 3, 4, 5, 6]\n",
      "[1, 2, 3, 4, 5, 6, 'dog']\n",
      "['pork', 1, 2, 3, 4, 5, 6, 'dog']\n",
      "['pork', 1, 2, 3, 4, 5, 6, 'dog', 6, 7, 8, 9, 10]\n"
     ]
    }
   ],
   "source": [
    "a = [1, 2, 3, 4, 5]\n",
    "\n",
    "#append() is method of object a\n",
    "a.append(6) \n",
    "print(a)\n",
    "\n",
    "a.append(\"dog\")\n",
    "print(a)\n",
    "\n",
    "#insert() is a method of object a\n",
    "a.insert(0,\"pork\")\n",
    "print(a)\n",
    "\n",
    "#extend() is a method of object a\n",
    "b = [6, 7, 8, 9, 10]\n",
    "a.extend(b)\n",
    "print(a)"
   ]
  },
  {
   "cell_type": "markdown",
   "metadata": {},
   "source": [
    "B. Explain what is mutability and in python. Illustrate with an example."
   ]
  },
  {
   "cell_type": "markdown",
   "metadata": {},
   "source": [
    "Mutablity or we also call them mutable objects in Python. \n",
    "A mutable object is a changeable object and its state can be modified after it is created.\n",
    "Please look at the example below:"
   ]
  },
  {
   "cell_type": "code",
   "execution_count": 5,
   "metadata": {},
   "outputs": [
    {
     "name": "stdout",
     "output_type": "stream",
     "text": [
      "The list is:  [1, 2, 3, 4]\n",
      "The list is:  [1, 2, 4]\n"
     ]
    }
   ],
   "source": [
    "#For example: list is a mutable object in Python. \n",
    "list = [1, 2, 3]\n",
    "#We can add an element in a created list by using append()\n",
    "list.append(4)\n",
    "print(\"The list is: \",list)\n",
    "#or we can remove an element in a list:\n",
    "list.remove(3)\n",
    "print(\"The list is: \",list)"
   ]
  },
  {
   "cell_type": "markdown",
   "metadata": {},
   "source": [
    "C. Illustrate the use of slicing with some examples with lists and tuples"
   ]
  },
  {
   "cell_type": "markdown",
   "metadata": {},
   "source": [
    "The slice object is used to slice a given sequence (list, tuple, string, byte, range,...). The syntax of slice is slice(start, stop, step)."
   ]
  },
  {
   "cell_type": "code",
   "execution_count": 11,
   "metadata": {},
   "outputs": [
    {
     "name": "stdout",
     "output_type": "stream",
     "text": [
      "[2, 3]\n",
      "[1, 3, 5]\n",
      "(2, 3)\n",
      "(1, 3, 5)\n"
     ]
    }
   ],
   "source": [
    "#For example: list\n",
    "list = [1,2,3,4,5]\n",
    "print(list[1:3]) #get number second[1] position= \"2\" to third position[2] = \"3\"\n",
    "print(list[::2]) \n",
    "#for example: tuple\n",
    "tuple = (1,2,3,4,5)\n",
    "print(tuple[1:3])\n",
    "print(tuple[::2])"
   ]
  },
  {
   "cell_type": "markdown",
   "metadata": {},
   "source": [
    "D. Random numbers\n",
    "1. What is a random number?\n",
    "2. What is a pseudorandom number?\n",
    "3. What is the importance of random numbers in Analytics?"
   ]
  },
  {
   "cell_type": "markdown",
   "metadata": {},
   "source": [
    "1. A random number is a number chosen as if by chance from some specified distribution such that selection of a large set of these numbers reproduces the underlying distribution. That means random numbers are numbers that occur in a sequence such that two conditions are met:(1) the values are uniformly distributed over a defined interval or set, and (2) it is impossible to predict future values based on past or present ones. Random numbers are important in statistical analysis and probability theory.\n",
    "2. Computer-generated random numbers are sometimes called pseudorandom numbers, while the term \"random\" is reserved for the output of unpredictable physical processes. \n",
    "3. The importance of random numbers in Analytics. There are several important applications of Random Numbers. The interesting part of these numbers is that it could be generated to one’s desired expectation. the two important statistical properties of Random Numbers are independence and Uniformity. There are several statistical tests available in order to validate these properties. So what has been written above is just a drop in the ocean of Random Numbers as there are indeed numerous applications of Random Numbers in varied fields of science."
   ]
  },
  {
   "cell_type": "markdown",
   "metadata": {},
   "source": [
    "E. Create a program that ask for two numbers and perform the following operations: \n",
    "1. Add them\n",
    "2. Subtract them\n",
    "3. Obtain the quotient and the reminder\n",
    "4. Print the numbers and the results in an professional manner"
   ]
  },
  {
   "cell_type": "code",
   "execution_count": 6,
   "metadata": {},
   "outputs": [
    {
     "name": "stdout",
     "output_type": "stream",
     "text": [
      "Please add number a:11\n",
      "Please add number b:22\n",
      "The sum is: 33.0\n",
      "The subtract is: -11.0\n",
      "The quotient and reminder are: (0.0, 11.0)\n"
     ]
    }
   ],
   "source": [
    "a = float(input(\"Please add number a:\"))\n",
    "b = float(input(\"Please add number b:\"))\n",
    "#sum\n",
    "print(\"The sum is:\", a+b)\n",
    "#subtract\n",
    "print(\"The subtract is:\", a-b)\n",
    "#quotient and reminder\n",
    "print(\"The quotient and reminder are:\", divmod(a,b))"
   ]
  },
  {
   "cell_type": "markdown",
   "metadata": {},
   "source": [
    "F. Create a program that calculate both roots of any quadratic equation. The program should be able to produce complex roots. "
   ]
  },
  {
   "cell_type": "code",
   "execution_count": 2,
   "metadata": {},
   "outputs": [
    {
     "name": "stdout",
     "output_type": "stream",
     "text": [
      "Add number a:100\n",
      "Add number b:250\n",
      "Add number c:100\n",
      "x1 is: -0.5\n",
      "x2 is: -2.0\n"
     ]
    }
   ],
   "source": [
    "#ax**2 + b*x + c = 0. Find x:\n",
    "\n",
    "a = float(input(\"Add number a:\"))\n",
    "b = float(input(\"Add number b:\"))\n",
    "c = float(input(\"Add number c:\"))\n",
    "\n",
    "i = b**2-4*a*c\n",
    "\n",
    "#Two situations: a = 0 and a != 0:\n",
    "\n",
    "if a == 0:\n",
    "    x = -float(c)/float(b)\n",
    "    print(\"x is:\",x)\n",
    "elif a != 0:\n",
    "    x1 = (-b/(2*a))+((i**0.5)/(2*a))\n",
    "    x2 = (-b/(2*a))-((i**0.5)/(2*a))\n",
    "    print(\"x1 is:\",x1)\n",
    "    print(\"x2 is:\",x2)"
   ]
  },
  {
   "cell_type": "markdown",
   "metadata": {},
   "source": [
    "G. Create a program that sort a any list of numbers in descendent order:\n",
    "1. Do not use sort functions\n",
    "2. Print the original list of numbers\n",
    "3. Print the list sorted"
   ]
  },
  {
   "cell_type": "code",
   "execution_count": 5,
   "metadata": {
    "scrolled": true
   },
   "outputs": [
    {
     "name": "stdout",
     "output_type": "stream",
     "text": [
      "Enter number of elements:5\n",
      "Please input your elements:100\n",
      "Please input your elements:200\n",
      "Please input your elements:300\n",
      "Please input your elements:400\n",
      "Please input your elements:500\n",
      "The original list is:  [100.0, 200.0, 300.0, 400.0, 500.0]\n",
      "The sorted list is:  [500.0, 400.0, 300.0, 200.0, 100.0]\n"
     ]
    }
   ],
   "source": [
    "alist = []\n",
    "n = int(input(\"Enter number of elements:\"))\n",
    "\n",
    "for i in range(0, n):\n",
    "    element = float(input(\"Please input your elements:\"))\n",
    "    alist.append(element)\n",
    "print(\"The original list is: \",alist)\n",
    "alist.sort(reverse=True)\n",
    "print(\"The sorted list is: \",alist)"
   ]
  },
  {
   "cell_type": "markdown",
   "metadata": {},
   "source": [
    "H. Create a program that find the MCD of two numbers.\n",
    "1. Input both numbers from the screen in any order\n",
    "2. Find MCD\n",
    "4. Print the numbers and the results in an professional manner"
   ]
  },
  {
   "cell_type": "code",
   "execution_count": 3,
   "metadata": {
    "scrolled": true
   },
   "outputs": [
    {
     "name": "stdout",
     "output_type": "stream",
     "text": [
      "Please add number a:12\n",
      "Divider of number a:  [1, 2, 3, 4, 6, 12]\n",
      "Please add number b :8\n",
      "Divider of number b:  [1, 2, 4, 8]\n",
      "Max Common Divider (MCD) of both numbers is:  4\n"
     ]
    }
   ],
   "source": [
    "a = int(input(\"Please add number a:\"))\n",
    "alist=[]\n",
    "for i1 in range (1, a+1):\n",
    "    if a%i1==0:\n",
    "        alist.append(i1)\n",
    "print(\"Divider of number a: \",alist)\n",
    "\n",
    "b = int(input(\"Please add number b :\"))\n",
    "blist=[]\n",
    "for i2 in range (1, b+1):\n",
    "    if b%i2==0:\n",
    "        blist.append(i2)\n",
    "print(\"Divider of number b: \",blist)\n",
    "\n",
    "clist = alist + blist\n",
    "duplicates=[]\n",
    "for i in clist:\n",
    "    if clist.count(i) > 1:\n",
    "        duplicates.append(i)\n",
    "        i += 1\n",
    "print(\"Max Common Divider (MCD) of both numbers is: \",max(duplicates))\n",
    "    "
   ]
  },
  {
   "cell_type": "markdown",
   "metadata": {},
   "source": [
    "I. Create a program that tells if a triangle is rectangular based on the length of its three sides\n",
    "1. Input side lenghts in any order\n",
    "2. Find if the triangle is a rectangular one\n",
    "4. Print the numbers and the results in an professional manner"
   ]
  },
  {
   "cell_type": "code",
   "execution_count": 2,
   "metadata": {},
   "outputs": [
    {
     "name": "stdout",
     "output_type": "stream",
     "text": [
      "Please input side a: 3\n",
      "Please input side b: 4\n",
      "Please input side c: 5\n",
      "This triangle is a rectangular\n"
     ]
    }
   ],
   "source": [
    "#call a, b are two sides of a triangle\n",
    "#call c: the longest side of a triangle.\n",
    "a = float(input(\"Please input side a: \"))\n",
    "b = float(input(\"Please input side b: \"))\n",
    "c = float(input(\"Please input side c: \"))\n",
    "if a != b and c**2 == a**2 + b**2:\n",
    "    print(\"This triangle is a rectangular\")\n",
    "else: print(\"This triangle is not a rectangular\")"
   ]
  },
  {
   "cell_type": "markdown",
   "metadata": {},
   "source": [
    "J. Create a cool program that impress your professor"
   ]
  },
  {
   "cell_type": "code",
   "execution_count": 1,
   "metadata": {},
   "outputs": [
    {
     "name": "stdout",
     "output_type": "stream",
     "text": [
      "Please enter your gender: male\n",
      "Please enter your age: 23\n",
      "Please enter your weight (pound): 127.8\n",
      "Please enter your height (inches): 67\n",
      "Your body fat percentage is:  13.0\n",
      "Congratulation! You are healthy. Keep moving forward.\n"
     ]
    }
   ],
   "source": [
    "#Program: how to calculate your ideal body fat percentage\n",
    "gender = str(input(\"Please enter your gender: \"))\n",
    "age = float(input(\"Please enter your age: \"))\n",
    "weight = float(input(\"Please enter your weight (pound): \"))\n",
    "height = float(input(\"Please enter your height (inches): \"))\n",
    "#Calculate body massive body mass index (BMI):\n",
    "BMI = ((weight)/(height**2))*703\n",
    "if gender.upper() == \"MALE\":\n",
    "    BFP = (1.20*BMI)+(0.23*age)-16.2\n",
    "elif gender.upper() == \"FEMALE\":\n",
    "    BFP = (1.20*BMI)+(0.23*age)-5.4\n",
    "print(\"Your body fat percentage is: \",round(BFP,0))\n",
    "if gender.upper()==\"MALE\":\n",
    "    if age>=20 and age<=40:\n",
    "        if BFP<8:\n",
    "            print(\"You are underfat. You should consume more calories.\")\n",
    "        elif BFP>=8 and BFP<19:\n",
    "            print(\"Congratulation! You are healthy. Keep moving forward.\")\n",
    "        elif BFP>=19 and BFP<25:\n",
    "            print(\"You are overweight. You should start doing cardio.\")\n",
    "        else: print(\"You are obese. Start working out now.\")\n",
    "    if age>=41 and age<=60:\n",
    "        if BFP<11:\n",
    "            print(\"You are underfat. You should consume more calories.\")\n",
    "        elif BFP>=11 and BFP<22:\n",
    "            print(\"Congratulation! You are healthy. Keep moving forward.\")\n",
    "        elif BFP>=22 and BFP<27:\n",
    "            print(\"You are overweight. You should start doing cardio.\")\n",
    "        else: print(\"You are obese. Start working out now.\")\n",
    "    if age>=61 and age<=79:\n",
    "        if BFP<13:\n",
    "            print(\"You are underfat. You should consume more calories.\")\n",
    "        elif BFP>=13 and BFP<25:\n",
    "            print(\"Congratulation! You are healthy. Keep moving forward.\")\n",
    "        elif BFP>=25 and BFP<30:\n",
    "            print(\"You are overweight. You should start doing cardio.\")\n",
    "        else: print(\"You are obese. Start working out now.\")\n",
    "if gender.upper()==\"FEMALE\":\n",
    "    if age>=20 and age<=40:\n",
    "        if BFP<21:\n",
    "            print(\"You are underfat\")\n",
    "        elif BFP>=21 and BFP<33:\n",
    "            print(\"You are healthy\")\n",
    "        elif BFP>=33 and BFP<39:\n",
    "            print(\"You are overweight\")\n",
    "        else: print(\"You are obese\")\n",
    "    if age>=41 and age<=60:\n",
    "        if BFP<23:\n",
    "            print(\"You are underfat\")\n",
    "        elif BFP>=23 and BFP<35:\n",
    "            print(\"You are healthy\")\n",
    "        elif BFP>=35 and BFP<40:\n",
    "            print(\"You are overweight\")\n",
    "        else: print(\"You are obese\")\n",
    "    if age>=61 and age<=79:\n",
    "        if BFP<13:\n",
    "            print(\"You are underfat\")\n",
    "        if BFP>=13 and BFP<25:\n",
    "            print(\"You are healthy\")\n",
    "        if BFP>=25 and BFP<30:\n",
    "            print(\"You are overweight\")\n",
    "        else: print(\"You are obese\")\n"
   ]
  },
  {
   "cell_type": "code",
   "execution_count": null,
   "metadata": {},
   "outputs": [],
   "source": []
  }
 ],
 "metadata": {
  "kernelspec": {
   "display_name": "Python 3",
   "language": "python",
   "name": "python3"
  },
  "language_info": {
   "codemirror_mode": {
    "name": "ipython",
    "version": 3
   },
   "file_extension": ".py",
   "mimetype": "text/x-python",
   "name": "python",
   "nbconvert_exporter": "python",
   "pygments_lexer": "ipython3",
   "version": "3.7.4"
  }
 },
 "nbformat": 4,
 "nbformat_minor": 2
}
